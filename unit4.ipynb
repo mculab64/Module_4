{
 "cells": [
  {
   "cell_type": "code",
   "execution_count": 1,
   "metadata": {},
   "outputs": [],
   "source": [
    "import pandas as pd\n",
    "import matplotlib.pyplot as plt\n",
    "import seaborn as sns\n",
    "\n",
    "%matplotlib inline"
   ]
  },
  {
   "cell_type": "code",
   "execution_count": 2,
   "metadata": {},
   "outputs": [],
   "source": [
    "df = pd.read_csv('query_result_2021-02-16T16_50_56.834609Z.csv')"
   ]
  },
  {
   "cell_type": "markdown",
   "metadata": {},
   "source": [
    "Смотрим, что получилось"
   ]
  },
  {
   "cell_type": "code",
   "execution_count": 3,
   "metadata": {},
   "outputs": [
    {
     "name": "stdout",
     "output_type": "stream",
     "text": [
      "<class 'pandas.core.frame.DataFrame'>\n",
      "RangeIndex: 127 entries, 0 to 126\n",
      "Data columns (total 10 columns):\n",
      " #   Column               Non-Null Count  Dtype  \n",
      "---  ------               --------------  -----  \n",
      " 0   flight_id            127 non-null    int64  \n",
      " 1   departure_airport    127 non-null    object \n",
      " 2   arrival_airport      127 non-null    object \n",
      " 3   scheduled_departure  127 non-null    object \n",
      " 4   scheduled_arrival    127 non-null    object \n",
      " 5   model                127 non-null    object \n",
      " 6   flight_incom         118 non-null    float64\n",
      " 7   occupancy            127 non-null    int64  \n",
      " 8   capacity             127 non-null    int64  \n",
      " 9   flight_time          127 non-null    float64\n",
      "dtypes: float64(2), int64(3), object(5)\n",
      "memory usage: 10.0+ KB\n"
     ]
    }
   ],
   "source": [
    "df.info()"
   ]
  },
  {
   "cell_type": "markdown",
   "metadata": {},
   "source": []
  },
  {
   "cell_type": "code",
   "execution_count": 4,
   "metadata": {},
   "outputs": [],
   "source": [
    "# Справочник о характеристиках самолета\n",
    "aircraft_info = {\n",
    "    'Boeing 737-300': {'fuel': 2400,\n",
    "                       'weight': 62.82\n",
    "                      },\n",
    "    'Sukhoi Superjet-100': {'fuel': 1700,     # расход топлива кг в 60 мин\n",
    "                            'weight': 45.88   # МВМ в тоннах\n",
    "                           }}"
   ]
  },
  {
   "cell_type": "code",
   "execution_count": 5,
   "metadata": {},
   "outputs": [],
   "source": [
    "# Здесь расписываем сколько топлива в час \"ест\" каждая модель самолета\n",
    "jet_fuel =[]\n",
    "for model in df.model:\n",
    "    if model =='Sukhoi Superjet-100':\n",
    "        jet_fuel.append(1700)\n",
    "    else: \n",
    "        jet_fuel.append(2400)\n",
    "df['jet_fuel'] = jet_fuel\n"
   ]
  },
  {
   "cell_type": "code",
   "execution_count": 6,
   "metadata": {},
   "outputs": [],
   "source": [
    "# А также максимальную взлетную массу в тоннах\n",
    "mwm =[]\n",
    "for model in df.model:\n",
    "    if model =='Sukhoi Superjet-100':\n",
    "        mwm.append(45.88)\n",
    "    else: \n",
    "        mwm.append(62.82)\n",
    "df['aircraft_weight'] = mwm"
   ]
  },
  {
   "cell_type": "code",
   "execution_count": 7,
   "metadata": {},
   "outputs": [],
   "source": [
    "# Справочник о сборах аэропорта\n",
    "airport_info = {\n",
    "    'EGO': {'landing': 500,      # сбор за взлет-посадку руб/тонну\n",
    "            'parking': 0.05,     # сбор за стоянку коэф.от 'landing'\n",
    "            'seсurity': 300      # сбор за авиационную безопасность\n",
    "           }, \n",
    "    'SVO': {'landing': 178.3,\n",
    "            'parking': 0.05,\n",
    "            'seсurity': 54.6      \n",
    "           }\n",
    "               }"
   ]
  },
  {
   "cell_type": "code",
   "execution_count": 8,
   "metadata": {},
   "outputs": [],
   "source": [
    "df['landing_price'] = df[df['arrival_airport'] != 'NOZ']['arrival_airport'].apply(lambda x: airport_info[x]['landing'])\n",
    "df['parking_price'] = df[df['arrival_airport'] != 'NOZ']['arrival_airport'].apply(lambda x: airport_info[x]['parking'])\n",
    "# df['securiy_price'] = df[df['arrival_airport'] != 'NOZ']['arrival_airport'].apply(lambda x: airport_info[x]['security']) почему-то тут выдает ошибку"
   ]
  },
  {
   "cell_type": "code",
   "execution_count": 9,
   "metadata": {},
   "outputs": [],
   "source": [
    "security=[]\n",
    "for i in df.arrival_airport:\n",
    "    if i == 'SVO':\n",
    "        security.append(54.6)\n",
    "    elif i == 'EGO':\n",
    "        security.append(300)\n",
    "    else:\n",
    "        security.append(0)\n",
    "df['security_price'] = security"
   ]
  },
  {
   "cell_type": "markdown",
   "metadata": {},
   "source": [
    "Отдельно можно посчитать сборы аэропорта за наземное обслуживание, сгруппировав всю сумму в одну переменную"
   ]
  },
  {
   "cell_type": "code",
   "execution_count": 10,
   "metadata": {},
   "outputs": [],
   "source": [
    "df['ground_handling'] = df.landing_price * df.aircraft_weight + df.landing_price * df.aircraft_weight * df.parking_price + df.security_price * df.aircraft_weight"
   ]
  },
  {
   "cell_type": "markdown",
   "metadata": {},
   "source": [
    "Расходы на топливо"
   ]
  },
  {
   "cell_type": "code",
   "execution_count": 11,
   "metadata": {},
   "outputs": [],
   "source": [
    "df['fuel_price'] = 40    #  руб за 1 кг\n"
   ]
  },
  {
   "cell_type": "code",
   "execution_count": 12,
   "metadata": {},
   "outputs": [],
   "source": [
    "df['fuel_cost'] = df['flight_time'] * df['jet_fuel'] / 60 * df['fuel_price']"
   ]
  },
  {
   "cell_type": "markdown",
   "metadata": {},
   "source": [
    "Теперь можно посчитать прибыльность "
   ]
  },
  {
   "cell_type": "code",
   "execution_count": 13,
   "metadata": {},
   "outputs": [],
   "source": [
    "df['flight_summary'] = df['flight_incom'] - df['fuel_cost'] - df['ground_handling']"
   ]
  },
  {
   "cell_type": "code",
   "execution_count": 14,
   "metadata": {},
   "outputs": [
    {
     "data": {
      "text/plain": [
       "0      11.726159\n",
       "1       8.542557\n",
       "2       9.492041\n",
       "3       8.710057\n",
       "4            NaN\n",
       "         ...    \n",
       "122    11.837335\n",
       "123     8.695057\n",
       "124          NaN\n",
       "125     8.480865\n",
       "126     9.305057\n",
       "Length: 127, dtype: float64"
      ]
     },
     "execution_count": 14,
     "metadata": {},
     "output_type": "execute_result"
    }
   ],
   "source": [
    "# странные пропорции, возможно я ошибся с ценой на топливо\n",
    "df['flight_summary']/df['fuel_cost']"
   ]
  },
  {
   "cell_type": "markdown",
   "metadata": {},
   "source": [
    "Итак, у нас 2 ежедневных рейса в Москву и Белгород. Посмотрим на их прибыльность"
   ]
  },
  {
   "cell_type": "code",
   "execution_count": 15,
   "metadata": {},
   "outputs": [
    {
     "data": {
      "image/png": "[encoded data removed]",
      "text/plain": [
       "<Figure size 1080x432 with 1 Axes>"
      ]
     },
     "metadata": {},
     "output_type": "display_data"
    }
   ],
   "source": [
    "fig, ax = plt.subplots(figsize = (15, 6))\n",
    "ax.set_facecolor('seashell')\n",
    "fig.set_facecolor('floralwhite')\n",
    "sns.boxenplot(x='arrival_airport', y='flight_summary', \n",
    "                data=df,\n",
    "               ax=ax)\n",
    "          \n",
    "ax.set_title('Boxenplot for flight_summary' )\n",
    "plt.show()"
   ]
  },
  {
   "cell_type": "code",
   "execution_count": null,
   "metadata": {},
   "outputs": [],
   "source": []
  },
  {
   "cell_type": "code",
   "execution_count": 16,
   "metadata": {},
   "outputs": [],
   "source": [
    "df['dep_time'] = pd.to_datetime(df['scheduled_departure']).dt.tz_localize(None)\n",
    "df['arr_time'] = pd.to_datetime(df['scheduled_arrival']).dt.tz_localize(None)\n",
    "df['day_of_week'] = pd.to_datetime(df['dep_time']).dt.dayofweek"
   ]
  },
  {
   "cell_type": "code",
   "execution_count": 17,
   "metadata": {},
   "outputs": [
    {
     "data": {
      "text/plain": [
       "0      2017-01-01\n",
       "1      2017-01-01\n",
       "2      2017-01-02\n",
       "3      2017-01-02\n",
       "4      2017-01-03\n",
       "          ...    \n",
       "122    2017-02-27\n",
       "123    2017-02-27\n",
       "124    2017-02-28\n",
       "125    2017-02-28\n",
       "126    2017-02-28\n",
       "Name: date, Length: 127, dtype: object"
      ]
     },
     "execution_count": 17,
     "metadata": {},
     "output_type": "execute_result"
    }
   ],
   "source": [
    "df['date'] = df['dep_time'].map(lambda x: x.strftime('%Y-%m-%d'))\n",
    "df.date"
   ]
  },
  {
   "cell_type": "code",
   "execution_count": 18,
   "metadata": {},
   "outputs": [
    {
     "data": {
      "image/png": "[encoded data removed]",
      "text/plain": [
       "<Figure size 864x432 with 2 Axes>"
      ]
     },
     "metadata": {},
     "output_type": "display_data"
    }
   ],
   "source": [
    "x = df[df['arrival_airport'] == 'EGO']['date']\n",
    "y1 = df[df['arrival_airport'] == 'SVO']['occupancy']\n",
    "y2 = df[df['arrival_airport'] == 'EGO']['occupancy']\n",
    "y3 = df[df['arrival_airport'] == 'SVO']['flight_incom']\n",
    "y4 = df[df['arrival_airport'] == 'EGO']['flight_incom']\n",
    "fig = plt.figure()\n",
    "\n",
    "ax_1 = fig.add_subplot(2, 1, 1)\n",
    "ax_2 = fig.add_subplot(2, 1, 2)\n",
    "\n",
    "ax_1.bar(x, y1)\n",
    "ax_1.bar(x, y2)\n",
    "\n",
    "ax_2.bar(x, y3)\n",
    "ax_2.bar(x, y4)\n",
    "\n",
    "\n",
    "fig.set_figwidth(12)    #  ширина и\n",
    "fig.set_figheight(6)    #  высота \"Figure\"\n",
    "fig.set_facecolor('floralwhite')\n",
    "ax.set_facecolor('seashell')\n"
   ]
  },
  {
   "cell_type": "code",
   "execution_count": null,
   "metadata": {},
   "outputs": [],
   "source": []
  }
 ],
 "metadata": {
  "kernelspec": {
   "display_name": "Python 3",
   "language": "python",
   "name": "python3"
  },
  "language_info": {
   "codemirror_mode": {
    "name": "ipython",
    "version": 3
   },
   "file_extension": ".py",
   "mimetype": "text/x-python",
   "name": "python",
   "nbconvert_exporter": "python",
   "pygments_lexer": "ipython3",
   "version": "3.8.3"
  }
 },
 "nbformat": 4,
 "nbformat_minor": 4
}
